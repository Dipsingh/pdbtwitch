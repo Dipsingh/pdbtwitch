{
 "cells": [
  {
   "cell_type": "code",
   "execution_count": 1,
   "metadata": {
    "ExecuteTime": {
     "end_time": "2020-09-15T06:07:04.112412Z",
     "start_time": "2020-09-15T06:07:04.091677Z"
    },
    "hide_input": false
   },
   "outputs": [
    {
     "data": {
      "text/html": [
       "<script>\n",
       "    // AUTORUN ALL CELLS ON NOTEBOOK-LOAD!\n",
       "    require(\n",
       "        ['base/js/namespace', 'jquery'], \n",
       "        function(jupyter, $) {\n",
       "            $(jupyter.events).on(\"kernel_ready.Kernel\", function () {\n",
       "                console.log(\"Auto-running all cells-below...\");\n",
       "                jupyter.actions.call('jupyter-notebook:run-all-cells-below');\n",
       "                jupyter.actions.call('jupyter-notebook:save-notebook');\n",
       "            });\n",
       "        }\n",
       "    );\n",
       "</script>\n"
      ],
      "text/plain": [
       "<IPython.core.display.HTML object>"
      ]
     },
     "metadata": {},
     "output_type": "display_data"
    }
   ],
   "source": [
    "%%html\n",
    "<script>\n",
    "    // AUTORUN ALL CELLS ON NOTEBOOK-LOAD!\n",
    "    require(\n",
    "        ['base/js/namespace', 'jquery'], \n",
    "        function(jupyter, $) {\n",
    "            $(jupyter.events).on(\"kernel_ready.Kernel\", function () {\n",
    "                console.log(\"Auto-running all cells-below...\");\n",
    "                jupyter.actions.call('jupyter-notebook:run-all-cells-below');\n",
    "                jupyter.actions.call('jupyter-notebook:save-notebook');\n",
    "            });\n",
    "        }\n",
    "    );\n",
    "</script>"
   ]
  },
  {
   "cell_type": "code",
   "execution_count": 2,
   "metadata": {
    "ExecuteTime": {
     "end_time": "2020-09-15T06:07:05.292348Z",
     "start_time": "2020-09-15T06:07:04.116515Z"
    },
    "hide_input": false
   },
   "outputs": [
    {
     "data": {
      "text/html": [
       "\n",
       "    <div class=\"bk-root\">\n",
       "        <a href=\"https://bokeh.org\" target=\"_blank\" class=\"bk-logo bk-logo-small bk-logo-notebook\"></a>\n",
       "        <span id=\"1001\">Loading BokehJS ...</span>\n",
       "    </div>"
      ]
     },
     "metadata": {},
     "output_type": "display_data"
    },
    {
     "data": {
      "application/javascript": [
       "\n",
       "(function(root) {\n",
       "  function now() {\n",
       "    return new Date();\n",
       "  }\n",
       "\n",
       "  var force = true;\n",
       "\n",
       "  if (typeof root._bokeh_onload_callbacks === \"undefined\" || force === true) {\n",
       "    root._bokeh_onload_callbacks = [];\n",
       "    root._bokeh_is_loading = undefined;\n",
       "  }\n",
       "\n",
       "  var JS_MIME_TYPE = 'application/javascript';\n",
       "  var HTML_MIME_TYPE = 'text/html';\n",
       "  var EXEC_MIME_TYPE = 'application/vnd.bokehjs_exec.v0+json';\n",
       "  var CLASS_NAME = 'output_bokeh rendered_html';\n",
       "\n",
       "  /**\n",
       "   * Render data to the DOM node\n",
       "   */\n",
       "  function render(props, node) {\n",
       "    var script = document.createElement(\"script\");\n",
       "    node.appendChild(script);\n",
       "  }\n",
       "\n",
       "  /**\n",
       "   * Handle when an output is cleared or removed\n",
       "   */\n",
       "  function handleClearOutput(event, handle) {\n",
       "    var cell = handle.cell;\n",
       "\n",
       "    var id = cell.output_area._bokeh_element_id;\n",
       "    var server_id = cell.output_area._bokeh_server_id;\n",
       "    // Clean up Bokeh references\n",
       "    if (id != null && id in Bokeh.index) {\n",
       "      Bokeh.index[id].model.document.clear();\n",
       "      delete Bokeh.index[id];\n",
       "    }\n",
       "\n",
       "    if (server_id !== undefined) {\n",
       "      // Clean up Bokeh references\n",
       "      var cmd = \"from bokeh.io.state import curstate; print(curstate().uuid_to_server['\" + server_id + \"'].get_sessions()[0].document.roots[0]._id)\";\n",
       "      cell.notebook.kernel.execute(cmd, {\n",
       "        iopub: {\n",
       "          output: function(msg) {\n",
       "            var id = msg.content.text.trim();\n",
       "            if (id in Bokeh.index) {\n",
       "              Bokeh.index[id].model.document.clear();\n",
       "              delete Bokeh.index[id];\n",
       "            }\n",
       "          }\n",
       "        }\n",
       "      });\n",
       "      // Destroy server and session\n",
       "      var cmd = \"import bokeh.io.notebook as ion; ion.destroy_server('\" + server_id + \"')\";\n",
       "      cell.notebook.kernel.execute(cmd);\n",
       "    }\n",
       "  }\n",
       "\n",
       "  /**\n",
       "   * Handle when a new output is added\n",
       "   */\n",
       "  function handleAddOutput(event, handle) {\n",
       "    var output_area = handle.output_area;\n",
       "    var output = handle.output;\n",
       "\n",
       "    // limit handleAddOutput to display_data with EXEC_MIME_TYPE content only\n",
       "    if ((output.output_type != \"display_data\") || (!output.data.hasOwnProperty(EXEC_MIME_TYPE))) {\n",
       "      return\n",
       "    }\n",
       "\n",
       "    var toinsert = output_area.element.find(\".\" + CLASS_NAME.split(' ')[0]);\n",
       "\n",
       "    if (output.metadata[EXEC_MIME_TYPE][\"id\"] !== undefined) {\n",
       "      toinsert[toinsert.length - 1].firstChild.textContent = output.data[JS_MIME_TYPE];\n",
       "      // store reference to embed id on output_area\n",
       "      output_area._bokeh_element_id = output.metadata[EXEC_MIME_TYPE][\"id\"];\n",
       "    }\n",
       "    if (output.metadata[EXEC_MIME_TYPE][\"server_id\"] !== undefined) {\n",
       "      var bk_div = document.createElement(\"div\");\n",
       "      bk_div.innerHTML = output.data[HTML_MIME_TYPE];\n",
       "      var script_attrs = bk_div.children[0].attributes;\n",
       "      for (var i = 0; i < script_attrs.length; i++) {\n",
       "        toinsert[toinsert.length - 1].firstChild.setAttribute(script_attrs[i].name, script_attrs[i].value);\n",
       "        toinsert[toinsert.length - 1].firstChild.textContent = bk_div.children[0].textContent\n",
       "      }\n",
       "      // store reference to server id on output_area\n",
       "      output_area._bokeh_server_id = output.metadata[EXEC_MIME_TYPE][\"server_id\"];\n",
       "    }\n",
       "  }\n",
       "\n",
       "  function register_renderer(events, OutputArea) {\n",
       "\n",
       "    function append_mime(data, metadata, element) {\n",
       "      // create a DOM node to render to\n",
       "      var toinsert = this.create_output_subarea(\n",
       "        metadata,\n",
       "        CLASS_NAME,\n",
       "        EXEC_MIME_TYPE\n",
       "      );\n",
       "      this.keyboard_manager.register_events(toinsert);\n",
       "      // Render to node\n",
       "      var props = {data: data, metadata: metadata[EXEC_MIME_TYPE]};\n",
       "      render(props, toinsert[toinsert.length - 1]);\n",
       "      element.append(toinsert);\n",
       "      return toinsert\n",
       "    }\n",
       "\n",
       "    /* Handle when an output is cleared or removed */\n",
       "    events.on('clear_output.CodeCell', handleClearOutput);\n",
       "    events.on('delete.Cell', handleClearOutput);\n",
       "\n",
       "    /* Handle when a new output is added */\n",
       "    events.on('output_added.OutputArea', handleAddOutput);\n",
       "\n",
       "    /**\n",
       "     * Register the mime type and append_mime function with output_area\n",
       "     */\n",
       "    OutputArea.prototype.register_mime_type(EXEC_MIME_TYPE, append_mime, {\n",
       "      /* Is output safe? */\n",
       "      safe: true,\n",
       "      /* Index of renderer in `output_area.display_order` */\n",
       "      index: 0\n",
       "    });\n",
       "  }\n",
       "\n",
       "  // register the mime type if in Jupyter Notebook environment and previously unregistered\n",
       "  if (root.Jupyter !== undefined) {\n",
       "    var events = require('base/js/events');\n",
       "    var OutputArea = require('notebook/js/outputarea').OutputArea;\n",
       "\n",
       "    if (OutputArea.prototype.mime_types().indexOf(EXEC_MIME_TYPE) == -1) {\n",
       "      register_renderer(events, OutputArea);\n",
       "    }\n",
       "  }\n",
       "\n",
       "  \n",
       "  if (typeof (root._bokeh_timeout) === \"undefined\" || force === true) {\n",
       "    root._bokeh_timeout = Date.now() + 5000;\n",
       "    root._bokeh_failed_load = false;\n",
       "  }\n",
       "\n",
       "  var NB_LOAD_WARNING = {'data': {'text/html':\n",
       "     \"<div style='background-color: #fdd'>\\n\"+\n",
       "     \"<p>\\n\"+\n",
       "     \"BokehJS does not appear to have successfully loaded. If loading BokehJS from CDN, this \\n\"+\n",
       "     \"may be due to a slow or bad network connection. Possible fixes:\\n\"+\n",
       "     \"</p>\\n\"+\n",
       "     \"<ul>\\n\"+\n",
       "     \"<li>re-rerun `output_notebook()` to attempt to load from CDN again, or</li>\\n\"+\n",
       "     \"<li>use INLINE resources instead, as so:</li>\\n\"+\n",
       "     \"</ul>\\n\"+\n",
       "     \"<code>\\n\"+\n",
       "     \"from bokeh.resources import INLINE\\n\"+\n",
       "     \"output_notebook(resources=INLINE)\\n\"+\n",
       "     \"</code>\\n\"+\n",
       "     \"</div>\"}};\n",
       "\n",
       "  function display_loaded() {\n",
       "    var el = document.getElementById(\"1001\");\n",
       "    if (el != null) {\n",
       "      el.textContent = \"BokehJS is loading...\";\n",
       "    }\n",
       "    if (root.Bokeh !== undefined) {\n",
       "      if (el != null) {\n",
       "        el.textContent = \"BokehJS \" + root.Bokeh.version + \" successfully loaded.\";\n",
       "      }\n",
       "    } else if (Date.now() < root._bokeh_timeout) {\n",
       "      setTimeout(display_loaded, 100)\n",
       "    }\n",
       "  }\n",
       "\n",
       "\n",
       "  function run_callbacks() {\n",
       "    try {\n",
       "      root._bokeh_onload_callbacks.forEach(function(callback) {\n",
       "        if (callback != null)\n",
       "          callback();\n",
       "      });\n",
       "    } finally {\n",
       "      delete root._bokeh_onload_callbacks\n",
       "    }\n",
       "    console.debug(\"Bokeh: all callbacks have finished\");\n",
       "  }\n",
       "\n",
       "  function load_libs(css_urls, js_urls, callback) {\n",
       "    if (css_urls == null) css_urls = [];\n",
       "    if (js_urls == null) js_urls = [];\n",
       "\n",
       "    root._bokeh_onload_callbacks.push(callback);\n",
       "    if (root._bokeh_is_loading > 0) {\n",
       "      console.debug(\"Bokeh: BokehJS is being loaded, scheduling callback at\", now());\n",
       "      return null;\n",
       "    }\n",
       "    if (js_urls == null || js_urls.length === 0) {\n",
       "      run_callbacks();\n",
       "      return null;\n",
       "    }\n",
       "    console.debug(\"Bokeh: BokehJS not loaded, scheduling load and callback at\", now());\n",
       "    root._bokeh_is_loading = css_urls.length + js_urls.length;\n",
       "\n",
       "    function on_load() {\n",
       "      root._bokeh_is_loading--;\n",
       "      if (root._bokeh_is_loading === 0) {\n",
       "        console.debug(\"Bokeh: all BokehJS libraries/stylesheets loaded\");\n",
       "        run_callbacks()\n",
       "      }\n",
       "    }\n",
       "\n",
       "    function on_error() {\n",
       "      console.error(\"failed to load \" + url);\n",
       "    }\n",
       "\n",
       "    for (var i = 0; i < css_urls.length; i++) {\n",
       "      var url = css_urls[i];\n",
       "      const element = document.createElement(\"link\");\n",
       "      element.onload = on_load;\n",
       "      element.onerror = on_error;\n",
       "      element.rel = \"stylesheet\";\n",
       "      element.type = \"text/css\";\n",
       "      element.href = url;\n",
       "      console.debug(\"Bokeh: injecting link tag for BokehJS stylesheet: \", url);\n",
       "      document.body.appendChild(element);\n",
       "    }\n",
       "\n",
       "    const hashes = {\"https://cdn.bokeh.org/bokeh/release/bokeh-2.1.0.min.js\": \"YobFyzPeVUsFQydHkJGsJL1kyfHnWxOlPc3EwaV22TmBaeGoXHLWx5aRRVPS9xlE\", \"https://cdn.bokeh.org/bokeh/release/bokeh-widgets-2.1.0.min.js\": \"NuAg9+TcTQQqvQCTtkCneRrpkTiMhhfiq0KHiBzx8ECiKiLWXHN6i6ia3q7b3eHu\", \"https://cdn.bokeh.org/bokeh/release/bokeh-tables-2.1.0.min.js\": \"uMVqQc8JqHitD67bXTn9a06Mrk3EiHRaZ18EJENQenAKJ/KL71SakdXYomZQpGRr\", \"https://cdn.bokeh.org/bokeh/release/bokeh-gl-2.1.0.min.js\": \"u+eGuEXC8aw0VSCm2mH+b/tQEAitUOYiR1H6SuIVEdUmXsf4vN8m/SmXpmjb7U/X\"};\n",
       "\n",
       "    for (var i = 0; i < js_urls.length; i++) {\n",
       "      var url = js_urls[i];\n",
       "      var element = document.createElement('script');\n",
       "      element.onload = on_load;\n",
       "      element.onerror = on_error;\n",
       "      element.async = false;\n",
       "      element.src = url;\n",
       "      if (url in hashes) {\n",
       "        element.crossOrigin = \"anonymous\";\n",
       "        element.integrity = \"sha384-\" + hashes[url];\n",
       "      }\n",
       "      console.debug(\"Bokeh: injecting script tag for BokehJS library: \", url);\n",
       "      document.head.appendChild(element);\n",
       "    }\n",
       "  };\n",
       "\n",
       "  function inject_raw_css(css) {\n",
       "    const element = document.createElement(\"style\");\n",
       "    element.appendChild(document.createTextNode(css));\n",
       "    document.body.appendChild(element);\n",
       "  }\n",
       "\n",
       "  \n",
       "  var js_urls = [\"https://cdn.bokeh.org/bokeh/release/bokeh-2.1.0.min.js\", \"https://cdn.bokeh.org/bokeh/release/bokeh-widgets-2.1.0.min.js\", \"https://cdn.bokeh.org/bokeh/release/bokeh-tables-2.1.0.min.js\", \"https://cdn.bokeh.org/bokeh/release/bokeh-gl-2.1.0.min.js\"];\n",
       "  var css_urls = [];\n",
       "  \n",
       "\n",
       "  var inline_js = [\n",
       "    function(Bokeh) {\n",
       "      Bokeh.set_log_level(\"info\");\n",
       "    },\n",
       "    function(Bokeh) {\n",
       "    \n",
       "    \n",
       "    }\n",
       "  ];\n",
       "\n",
       "  function run_inline_js() {\n",
       "    \n",
       "    if (root.Bokeh !== undefined || force === true) {\n",
       "      \n",
       "    for (var i = 0; i < inline_js.length; i++) {\n",
       "      inline_js[i].call(root, root.Bokeh);\n",
       "    }\n",
       "    if (force === true) {\n",
       "        display_loaded();\n",
       "      }} else if (Date.now() < root._bokeh_timeout) {\n",
       "      setTimeout(run_inline_js, 100);\n",
       "    } else if (!root._bokeh_failed_load) {\n",
       "      console.log(\"Bokeh: BokehJS failed to load within specified timeout.\");\n",
       "      root._bokeh_failed_load = true;\n",
       "    } else if (force !== true) {\n",
       "      var cell = $(document.getElementById(\"1001\")).parents('.cell').data().cell;\n",
       "      cell.output_area.append_execute_result(NB_LOAD_WARNING)\n",
       "    }\n",
       "\n",
       "  }\n",
       "\n",
       "  if (root._bokeh_is_loading === 0) {\n",
       "    console.debug(\"Bokeh: BokehJS loaded, going straight to plotting\");\n",
       "    run_inline_js();\n",
       "  } else {\n",
       "    load_libs(css_urls, js_urls, function() {\n",
       "      console.debug(\"Bokeh: BokehJS plotting callback run at\", now());\n",
       "      run_inline_js();\n",
       "    });\n",
       "  }\n",
       "}(window));"
      ],
      "application/vnd.bokehjs_load.v0+json": "\n(function(root) {\n  function now() {\n    return new Date();\n  }\n\n  var force = true;\n\n  if (typeof root._bokeh_onload_callbacks === \"undefined\" || force === true) {\n    root._bokeh_onload_callbacks = [];\n    root._bokeh_is_loading = undefined;\n  }\n\n  \n\n  \n  if (typeof (root._bokeh_timeout) === \"undefined\" || force === true) {\n    root._bokeh_timeout = Date.now() + 5000;\n    root._bokeh_failed_load = false;\n  }\n\n  var NB_LOAD_WARNING = {'data': {'text/html':\n     \"<div style='background-color: #fdd'>\\n\"+\n     \"<p>\\n\"+\n     \"BokehJS does not appear to have successfully loaded. If loading BokehJS from CDN, this \\n\"+\n     \"may be due to a slow or bad network connection. Possible fixes:\\n\"+\n     \"</p>\\n\"+\n     \"<ul>\\n\"+\n     \"<li>re-rerun `output_notebook()` to attempt to load from CDN again, or</li>\\n\"+\n     \"<li>use INLINE resources instead, as so:</li>\\n\"+\n     \"</ul>\\n\"+\n     \"<code>\\n\"+\n     \"from bokeh.resources import INLINE\\n\"+\n     \"output_notebook(resources=INLINE)\\n\"+\n     \"</code>\\n\"+\n     \"</div>\"}};\n\n  function display_loaded() {\n    var el = document.getElementById(\"1001\");\n    if (el != null) {\n      el.textContent = \"BokehJS is loading...\";\n    }\n    if (root.Bokeh !== undefined) {\n      if (el != null) {\n        el.textContent = \"BokehJS \" + root.Bokeh.version + \" successfully loaded.\";\n      }\n    } else if (Date.now() < root._bokeh_timeout) {\n      setTimeout(display_loaded, 100)\n    }\n  }\n\n\n  function run_callbacks() {\n    try {\n      root._bokeh_onload_callbacks.forEach(function(callback) {\n        if (callback != null)\n          callback();\n      });\n    } finally {\n      delete root._bokeh_onload_callbacks\n    }\n    console.debug(\"Bokeh: all callbacks have finished\");\n  }\n\n  function load_libs(css_urls, js_urls, callback) {\n    if (css_urls == null) css_urls = [];\n    if (js_urls == null) js_urls = [];\n\n    root._bokeh_onload_callbacks.push(callback);\n    if (root._bokeh_is_loading > 0) {\n      console.debug(\"Bokeh: BokehJS is being loaded, scheduling callback at\", now());\n      return null;\n    }\n    if (js_urls == null || js_urls.length === 0) {\n      run_callbacks();\n      return null;\n    }\n    console.debug(\"Bokeh: BokehJS not loaded, scheduling load and callback at\", now());\n    root._bokeh_is_loading = css_urls.length + js_urls.length;\n\n    function on_load() {\n      root._bokeh_is_loading--;\n      if (root._bokeh_is_loading === 0) {\n        console.debug(\"Bokeh: all BokehJS libraries/stylesheets loaded\");\n        run_callbacks()\n      }\n    }\n\n    function on_error() {\n      console.error(\"failed to load \" + url);\n    }\n\n    for (var i = 0; i < css_urls.length; i++) {\n      var url = css_urls[i];\n      const element = document.createElement(\"link\");\n      element.onload = on_load;\n      element.onerror = on_error;\n      element.rel = \"stylesheet\";\n      element.type = \"text/css\";\n      element.href = url;\n      console.debug(\"Bokeh: injecting link tag for BokehJS stylesheet: \", url);\n      document.body.appendChild(element);\n    }\n\n    const hashes = {\"https://cdn.bokeh.org/bokeh/release/bokeh-2.1.0.min.js\": \"YobFyzPeVUsFQydHkJGsJL1kyfHnWxOlPc3EwaV22TmBaeGoXHLWx5aRRVPS9xlE\", \"https://cdn.bokeh.org/bokeh/release/bokeh-widgets-2.1.0.min.js\": \"NuAg9+TcTQQqvQCTtkCneRrpkTiMhhfiq0KHiBzx8ECiKiLWXHN6i6ia3q7b3eHu\", \"https://cdn.bokeh.org/bokeh/release/bokeh-tables-2.1.0.min.js\": \"uMVqQc8JqHitD67bXTn9a06Mrk3EiHRaZ18EJENQenAKJ/KL71SakdXYomZQpGRr\", \"https://cdn.bokeh.org/bokeh/release/bokeh-gl-2.1.0.min.js\": \"u+eGuEXC8aw0VSCm2mH+b/tQEAitUOYiR1H6SuIVEdUmXsf4vN8m/SmXpmjb7U/X\"};\n\n    for (var i = 0; i < js_urls.length; i++) {\n      var url = js_urls[i];\n      var element = document.createElement('script');\n      element.onload = on_load;\n      element.onerror = on_error;\n      element.async = false;\n      element.src = url;\n      if (url in hashes) {\n        element.crossOrigin = \"anonymous\";\n        element.integrity = \"sha384-\" + hashes[url];\n      }\n      console.debug(\"Bokeh: injecting script tag for BokehJS library: \", url);\n      document.head.appendChild(element);\n    }\n  };\n\n  function inject_raw_css(css) {\n    const element = document.createElement(\"style\");\n    element.appendChild(document.createTextNode(css));\n    document.body.appendChild(element);\n  }\n\n  \n  var js_urls = [\"https://cdn.bokeh.org/bokeh/release/bokeh-2.1.0.min.js\", \"https://cdn.bokeh.org/bokeh/release/bokeh-widgets-2.1.0.min.js\", \"https://cdn.bokeh.org/bokeh/release/bokeh-tables-2.1.0.min.js\", \"https://cdn.bokeh.org/bokeh/release/bokeh-gl-2.1.0.min.js\"];\n  var css_urls = [];\n  \n\n  var inline_js = [\n    function(Bokeh) {\n      Bokeh.set_log_level(\"info\");\n    },\n    function(Bokeh) {\n    \n    \n    }\n  ];\n\n  function run_inline_js() {\n    \n    if (root.Bokeh !== undefined || force === true) {\n      \n    for (var i = 0; i < inline_js.length; i++) {\n      inline_js[i].call(root, root.Bokeh);\n    }\n    if (force === true) {\n        display_loaded();\n      }} else if (Date.now() < root._bokeh_timeout) {\n      setTimeout(run_inline_js, 100);\n    } else if (!root._bokeh_failed_load) {\n      console.log(\"Bokeh: BokehJS failed to load within specified timeout.\");\n      root._bokeh_failed_load = true;\n    } else if (force !== true) {\n      var cell = $(document.getElementById(\"1001\")).parents('.cell').data().cell;\n      cell.output_area.append_execute_result(NB_LOAD_WARNING)\n    }\n\n  }\n\n  if (root._bokeh_is_loading === 0) {\n    console.debug(\"Bokeh: BokehJS loaded, going straight to plotting\");\n    run_inline_js();\n  } else {\n    load_libs(css_urls, js_urls, function() {\n      console.debug(\"Bokeh: BokehJS plotting callback run at\", now());\n      run_inline_js();\n    });\n  }\n}(window));"
     },
     "metadata": {},
     "output_type": "display_data"
    }
   ],
   "source": [
    "from pdbtwitch.collector.collector import PeeringData\n",
    "import warnings\n",
    "import matplotlib.pyplot as plt\n",
    "from bokeh.plotting import show\n",
    "from bokeh.layouts import row, widgetbox, column\n",
    "from pandas.plotting import register_matplotlib_converters\n",
    "from bokeh.io import output_notebook\n",
    "register_matplotlib_converters()\n",
    "plt.style.use('seaborn-whitegrid')\n",
    "warnings.filterwarnings('ignore')\n",
    "%matplotlib inline\n",
    "plt.ion()\n",
    "output_notebook()"
   ]
  },
  {
   "cell_type": "code",
   "execution_count": 3,
   "metadata": {
    "ExecuteTime": {
     "end_time": "2020-09-15T06:07:06.192695Z",
     "start_time": "2020-09-15T06:07:05.363152Z"
    }
   },
   "outputs": [],
   "source": [
    "pd = PeeringData()"
   ]
  },
  {
   "cell_type": "code",
   "execution_count": 5,
   "metadata": {
    "ExecuteTime": {
     "end_time": "2020-09-15T06:07:06.272112Z",
     "start_time": "2020-09-15T06:07:06.206281Z"
    }
   },
   "outputs": [
    {
     "data": {
      "text/html": [
       "\n",
       "\n",
       "\n",
       "\n",
       "\n",
       "\n",
       "  <div class=\"bk-root\" id=\"b214e437-f8e2-40d8-a302-7128213c62c6\" data-root-id=\"1057\"></div>\n"
      ]
     },
     "metadata": {},
     "output_type": "display_data"
    },
    {
     "data": {
      "application/javascript": [
       "(function(root) {\n",
       "  function embed_document(root) {\n",
       "    \n",
       "  var docs_json = {\"43e8a9c9-4d50-4a71-bb88-ed935d454ce1\":{\"roots\":{\"references\":[{\"attributes\":{\"children\":[{\"id\":\"1029\"},{\"id\":\"1031\"}]},\"id\":\"1057\",\"type\":\"Row\"},{\"attributes\":{\"active_drag\":\"auto\",\"active_inspect\":\"auto\",\"active_multi\":null,\"active_scroll\":\"auto\",\"active_tap\":\"auto\"},\"id\":\"1049\",\"type\":\"Toolbar\"},{\"attributes\":{\"data\":{\"x\":[\"Unique IX\",\"Total Peers\",\"RS Peers\",\"Operational Peers\"],\"y\":[55,102,16,102]},\"selected\":{\"id\":\"1074\"},\"selection_policy\":{\"id\":\"1075\"}},\"id\":\"1002\",\"type\":\"ColumnDataSource\"},{\"attributes\":{\"axis\":{\"id\":\"1017\"},\"dimension\":1,\"ticker\":null},\"id\":\"1020\",\"type\":\"Grid\"},{\"attributes\":{},\"id\":\"1069\",\"type\":\"UnionRenderers\"},{\"attributes\":{},\"id\":\"1068\",\"type\":\"Selection\"},{\"attributes\":{\"text\":\"Public IX Peering Summary\"},\"id\":\"1004\",\"type\":\"Title\"},{\"attributes\":{},\"id\":\"1070\",\"type\":\"Selection\"},{\"attributes\":{\"formatter\":{\"id\":\"1063\"},\"ticker\":{\"id\":\"1043\"}},\"id\":\"1042\",\"type\":\"CategoricalAxis\"},{\"attributes\":{},\"id\":\"1072\",\"type\":\"Selection\"},{\"attributes\":{\"start\":0},\"id\":\"1008\",\"type\":\"DataRange1d\"},{\"attributes\":{\"source\":{\"id\":\"1022\"}},\"id\":\"1026\",\"type\":\"CDSView\"},{\"attributes\":{\"active_drag\":\"auto\",\"active_inspect\":\"auto\",\"active_multi\":null,\"active_scroll\":\"auto\",\"active_tap\":\"auto\"},\"id\":\"1021\",\"type\":\"Toolbar\"},{\"attributes\":{\"below\":[{\"id\":\"1042\"}],\"center\":[{\"id\":\"1044\"},{\"id\":\"1048\"},{\"id\":\"1055\"}],\"left\":[{\"id\":\"1045\"}],\"plot_height\":400,\"plot_width\":300,\"renderers\":[{\"id\":\"1053\"}],\"title\":{\"id\":\"1032\"},\"toolbar\":{\"id\":\"1049\"},\"toolbar_location\":null,\"x_range\":{\"id\":\"1034\"},\"x_scale\":{\"id\":\"1038\"},\"y_range\":{\"id\":\"1036\"},\"y_scale\":{\"id\":\"1040\"}},\"id\":\"1031\",\"subtype\":\"Figure\",\"type\":\"Plot\"},{\"attributes\":{\"data_source\":{\"id\":\"1022\"},\"glyph\":{\"id\":\"1023\"},\"hover_glyph\":null,\"muted_glyph\":null,\"nonselection_glyph\":{\"id\":\"1024\"},\"selection_glyph\":null,\"view\":{\"id\":\"1026\"}},\"id\":\"1025\",\"type\":\"GlyphRenderer\"},{\"attributes\":{\"data\":{\"x\":[\"Aggregate Peering Capacity\"],\"y\":[4280.0]},\"selected\":{\"id\":\"1070\"},\"selection_policy\":{\"id\":\"1071\"}},\"id\":\"1030\",\"type\":\"ColumnDataSource\"},{\"attributes\":{\"fill_color\":{\"value\":\"#1f77b4\"},\"line_color\":{\"value\":\"#1f77b4\"},\"top\":{\"field\":\"top\"},\"width\":{\"value\":0.7},\"x\":{\"field\":\"x\"}},\"id\":\"1023\",\"type\":\"VBar\"},{\"attributes\":{\"data_source\":{\"id\":\"1050\"},\"glyph\":{\"id\":\"1051\"},\"hover_glyph\":null,\"muted_glyph\":null,\"nonselection_glyph\":{\"id\":\"1052\"},\"selection_glyph\":null,\"view\":{\"id\":\"1054\"}},\"id\":\"1053\",\"type\":\"GlyphRenderer\"},{\"attributes\":{\"axis_label\":\"Count\",\"formatter\":{\"id\":\"1065\"},\"ticker\":{\"id\":\"1018\"}},\"id\":\"1017\",\"type\":\"LinearAxis\"},{\"attributes\":{\"data\":{\"top\":[55,102,16,102],\"x\":[\"Unique IX\",\"Total Peers\",\"RS Peers\",\"Operational Peers\"]},\"selected\":{\"id\":\"1072\"},\"selection_policy\":{\"id\":\"1073\"}},\"id\":\"1022\",\"type\":\"ColumnDataSource\"},{\"attributes\":{},\"id\":\"1067\",\"type\":\"CategoricalTickFormatter\"},{\"attributes\":{\"axis\":{\"id\":\"1042\"},\"grid_line_color\":null,\"ticker\":null},\"id\":\"1044\",\"type\":\"Grid\"},{\"attributes\":{},\"id\":\"1010\",\"type\":\"CategoricalScale\"},{\"attributes\":{\"formatter\":{\"id\":\"1067\"},\"ticker\":{\"id\":\"1015\"}},\"id\":\"1014\",\"type\":\"CategoricalAxis\"},{\"attributes\":{\"source\":{\"id\":\"1050\"}},\"id\":\"1054\",\"type\":\"CDSView\"},{\"attributes\":{\"fill_alpha\":{\"value\":0.1},\"fill_color\":{\"value\":\"#1f77b4\"},\"line_alpha\":{\"value\":0.1},\"line_color\":{\"value\":\"#1f77b4\"},\"top\":{\"field\":\"top\"},\"width\":{\"value\":0.3},\"x\":{\"field\":\"x\"}},\"id\":\"1052\",\"type\":\"VBar\"},{\"attributes\":{\"level\":\"glyph\",\"source\":{\"id\":\"1030\"},\"text\":{\"field\":\"y\"},\"x\":{\"field\":\"x\"},\"x_offset\":{\"value\":-13.5},\"y\":{\"field\":\"y\"}},\"id\":\"1055\",\"type\":\"LabelSet\"},{\"attributes\":{},\"id\":\"1075\",\"type\":\"UnionRenderers\"},{\"attributes\":{\"text\":\"Aggregate Peering Capacity\"},\"id\":\"1032\",\"type\":\"Title\"},{\"attributes\":{\"factors\":[\"Unique IX\",\"Total Peers\",\"RS Peers\",\"Operational Peers\"]},\"id\":\"1006\",\"type\":\"FactorRange\"},{\"attributes\":{},\"id\":\"1073\",\"type\":\"UnionRenderers\"},{\"attributes\":{\"factors\":[\"Aggregate Peering Capacity\"]},\"id\":\"1034\",\"type\":\"FactorRange\"},{\"attributes\":{\"fill_color\":{\"value\":\"#1f77b4\"},\"line_color\":{\"value\":\"#1f77b4\"},\"top\":{\"field\":\"top\"},\"width\":{\"value\":0.3},\"x\":{\"field\":\"x\"}},\"id\":\"1051\",\"type\":\"VBar\"},{\"attributes\":{},\"id\":\"1061\",\"type\":\"BasicTickFormatter\"},{\"attributes\":{\"start\":0},\"id\":\"1036\",\"type\":\"DataRange1d\"},{\"attributes\":{},\"id\":\"1018\",\"type\":\"BasicTicker\"},{\"attributes\":{\"axis_label\":\"Gbps\",\"formatter\":{\"id\":\"1061\"},\"ticker\":{\"id\":\"1046\"}},\"id\":\"1045\",\"type\":\"LinearAxis\"},{\"attributes\":{\"children\":[{\"id\":\"1003\"}]},\"id\":\"1029\",\"type\":\"Column\"},{\"attributes\":{},\"id\":\"1074\",\"type\":\"Selection\"},{\"attributes\":{},\"id\":\"1015\",\"type\":\"CategoricalTicker\"},{\"attributes\":{},\"id\":\"1071\",\"type\":\"UnionRenderers\"},{\"attributes\":{},\"id\":\"1040\",\"type\":\"LinearScale\"},{\"attributes\":{\"below\":[{\"id\":\"1014\"}],\"center\":[{\"id\":\"1016\"},{\"id\":\"1020\"},{\"id\":\"1027\"}],\"left\":[{\"id\":\"1017\"}],\"plot_height\":400,\"renderers\":[{\"id\":\"1025\"}],\"title\":{\"id\":\"1004\"},\"toolbar\":{\"id\":\"1021\"},\"toolbar_location\":null,\"x_range\":{\"id\":\"1006\"},\"x_scale\":{\"id\":\"1010\"},\"y_range\":{\"id\":\"1008\"},\"y_scale\":{\"id\":\"1012\"}},\"id\":\"1003\",\"subtype\":\"Figure\",\"type\":\"Plot\"},{\"attributes\":{},\"id\":\"1012\",\"type\":\"LinearScale\"},{\"attributes\":{\"data\":{\"top\":[4280.0],\"x\":[\"Aggregate Peering Capacity\"]},\"selected\":{\"id\":\"1068\"},\"selection_policy\":{\"id\":\"1069\"}},\"id\":\"1050\",\"type\":\"ColumnDataSource\"},{\"attributes\":{},\"id\":\"1046\",\"type\":\"BasicTicker\"},{\"attributes\":{\"axis\":{\"id\":\"1045\"},\"dimension\":1,\"ticker\":null},\"id\":\"1048\",\"type\":\"Grid\"},{\"attributes\":{},\"id\":\"1038\",\"type\":\"CategoricalScale\"},{\"attributes\":{\"level\":\"glyph\",\"source\":{\"id\":\"1002\"},\"text\":{\"field\":\"y\"},\"x\":{\"field\":\"x\"},\"x_offset\":{\"value\":-13.5},\"y\":{\"field\":\"y\"}},\"id\":\"1027\",\"type\":\"LabelSet\"},{\"attributes\":{},\"id\":\"1043\",\"type\":\"CategoricalTicker\"},{\"attributes\":{},\"id\":\"1063\",\"type\":\"CategoricalTickFormatter\"},{\"attributes\":{\"axis\":{\"id\":\"1014\"},\"grid_line_color\":null,\"ticker\":null},\"id\":\"1016\",\"type\":\"Grid\"},{\"attributes\":{\"fill_alpha\":{\"value\":0.1},\"fill_color\":{\"value\":\"#1f77b4\"},\"line_alpha\":{\"value\":0.1},\"line_color\":{\"value\":\"#1f77b4\"},\"top\":{\"field\":\"top\"},\"width\":{\"value\":0.7},\"x\":{\"field\":\"x\"}},\"id\":\"1024\",\"type\":\"VBar\"},{\"attributes\":{},\"id\":\"1065\",\"type\":\"BasicTickFormatter\"}],\"root_ids\":[\"1057\"]},\"title\":\"Bokeh Application\",\"version\":\"2.1.0\"}};\n",
       "  var render_items = [{\"docid\":\"43e8a9c9-4d50-4a71-bb88-ed935d454ce1\",\"root_ids\":[\"1057\"],\"roots\":{\"1057\":\"b214e437-f8e2-40d8-a302-7128213c62c6\"}}];\n",
       "  root.Bokeh.embed.embed_items_notebook(docs_json, render_items);\n",
       "\n",
       "  }\n",
       "  if (root.Bokeh !== undefined) {\n",
       "    embed_document(root);\n",
       "  } else {\n",
       "    var attempts = 0;\n",
       "    var timer = setInterval(function(root) {\n",
       "      if (root.Bokeh !== undefined) {\n",
       "        clearInterval(timer);\n",
       "        embed_document(root);\n",
       "      } else {\n",
       "        attempts++;\n",
       "        if (attempts > 100) {\n",
       "          clearInterval(timer);\n",
       "          console.log(\"Bokeh: ERROR: Unable to run BokehJS code because BokehJS library is missing\");\n",
       "        }\n",
       "      }\n",
       "    }, 10, root)\n",
       "  }\n",
       "})(window);"
      ],
      "application/vnd.bokehjs_exec.v0+json": ""
     },
     "metadata": {
      "application/vnd.bokehjs_exec.v0+json": {
       "id": "1057"
      }
     },
     "output_type": "display_data"
    }
   ],
   "source": [
    "show(row(pd.plot_peering_summary(),pd.plot_aggregate_capacity()))"
   ]
  },
  {
   "cell_type": "code",
   "execution_count": 7,
   "metadata": {
    "ExecuteTime": {
     "end_time": "2020-09-15T06:07:48.418299Z",
     "start_time": "2020-09-15T06:07:48.376442Z"
    }
   },
   "outputs": [
    {
     "data": {
      "text/html": [
       "\n",
       "\n",
       "\n",
       "\n",
       "\n",
       "\n",
       "  <div class=\"bk-root\" id=\"0a6a4e69-6c97-4e52-be4a-fcea86429c48\" data-root-id=\"1194\"></div>\n"
      ]
     },
     "metadata": {},
     "output_type": "display_data"
    },
    {
     "data": {
      "application/javascript": [
       "(function(root) {\n",
       "  function embed_document(root) {\n",
       "    \n",
       "  var docs_json = {\"0582d148-3e51-455b-bd43-4a5c813e8a5c\":{\"roots\":{\"references\":[{\"attributes\":{\"children\":[{\"id\":\"1192\"}]},\"id\":\"1194\",\"type\":\"Column\"},{\"attributes\":{},\"id\":\"1215\",\"type\":\"StringFormatter\"},{\"attributes\":{},\"id\":\"1223\",\"type\":\"StringFormatter\"},{\"attributes\":{},\"id\":\"1213\",\"type\":\"StringFormatter\"},{\"attributes\":{},\"id\":\"1214\",\"type\":\"StringEditor\"},{\"attributes\":{\"editor\":{\"id\":\"1224\"},\"field\":\"is_rs_peer\",\"formatter\":{\"id\":\"1223\"},\"title\":\"RS Peer\"},\"id\":\"1190\",\"type\":\"TableColumn\"},{\"attributes\":{\"columns\":[{\"id\":\"1185\"},{\"id\":\"1186\"},{\"id\":\"1187\"},{\"id\":\"1188\"},{\"id\":\"1189\"},{\"id\":\"1190\"},{\"id\":\"1191\"}],\"height\":280,\"source\":{\"id\":\"1184\"},\"view\":{\"id\":\"1193\"},\"width\":800},\"id\":\"1192\",\"type\":\"DataTable\"},{\"attributes\":{\"editor\":{\"id\":\"1226\"},\"field\":\"status\",\"formatter\":{\"id\":\"1225\"},\"title\":\"Status\"},\"id\":\"1191\",\"type\":\"TableColumn\"},{\"attributes\":{\"source\":{\"id\":\"1184\"}},\"id\":\"1193\",\"type\":\"CDSView\"},{\"attributes\":{},\"id\":\"1218\",\"type\":\"StringEditor\"},{\"attributes\":{},\"id\":\"1228\",\"type\":\"UnionRenderers\"},{\"attributes\":{},\"id\":\"1221\",\"type\":\"StringFormatter\"},{\"attributes\":{\"data\":{\"asn\":[46489,46489,46489,46489,46489,46489,46489,46489,46489,46489,46489,46489,46489,46489,46489,46489,46489,46489,46489,46489,46489,46489,46489,46489,46489,46489,46489,46489,46489,46489,46489,46489,46489,46489,46489,46489,46489,46489,46489,46489,46489,46489,46489,46489,46489,46489,46489,46489,46489,46489,46489,46489,46489,46489,46489,46489,46489,46489,46489,46489,46489,46489,46489,46489,46489,46489,46489,46489,46489,46489,46489,46489,46489,46489,46489,46489,46489,46489,46489,46489,46489,46489,46489,46489,46489,46489,46489,46489,46489,46489,46489,46489,46489,46489,46489,46489,46489,46489,46489,46489,46489,46489],\"created\":[\"2010-07-29T00:00:00Z\",\"2010-07-29T00:00:00Z\",\"2011-04-28T00:00:00Z\",\"2011-07-13T00:00:00Z\",\"2011-12-10T00:00:00Z\",\"2012-07-14T00:00:00Z\",\"2012-07-14T00:00:00Z\",\"2012-12-18T00:00:00Z\",\"2013-08-31T00:00:00Z\",\"2013-11-26T00:00:00Z\",\"2014-01-08T00:00:00Z\",\"2014-01-27T00:00:00Z\",\"2014-02-11T00:00:00Z\",\"2014-02-16T00:00:00Z\",\"2014-02-19T00:00:00Z\",\"2014-03-02T00:00:00Z\",\"2014-03-05T00:00:00Z\",\"2014-03-28T00:00:00Z\",\"2014-03-28T00:00:00Z\",\"2014-04-07T00:00:00Z\",\"2014-06-22T00:00:00Z\",\"2014-10-06T00:00:00Z\",\"2014-10-06T00:00:00Z\",\"2014-10-16T00:00:00Z\",\"2014-10-16T00:00:00Z\",\"2014-11-02T00:00:00Z\",\"2014-11-02T00:00:00Z\",\"2015-03-26T00:00:00Z\",\"2015-03-26T00:00:00Z\",\"2015-05-12T00:00:00Z\",\"2015-05-12T00:00:00Z\",\"2015-05-12T00:00:00Z\",\"2015-05-12T00:00:00Z\",\"2015-06-25T00:00:00Z\",\"2015-07-14T00:00:00Z\",\"2015-07-14T00:00:00Z\",\"2015-07-15T00:00:00Z\",\"2015-07-15T00:00:00Z\",\"2015-11-03T00:00:00Z\",\"2015-11-03T00:00:00Z\",\"2015-11-03T00:00:00Z\",\"2015-11-03T00:00:00Z\",\"2015-12-22T00:00:00Z\",\"2015-12-22T00:00:00Z\",\"2016-01-13T00:00:00Z\",\"2016-01-13T00:00:00Z\",\"2016-01-20T00:00:00Z\",\"2016-01-20T00:00:00Z\",\"2016-01-27T00:00:00Z\",\"2016-01-27T00:00:00Z\",\"2016-04-21T19:33:22Z\",\"2016-04-21T19:33:36Z\",\"2016-09-09T17:55:46Z\",\"2016-09-09T17:56:10Z\",\"2016-11-28T16:20:26Z\",\"2016-11-28T16:20:49Z\",\"2016-12-01T22:19:38Z\",\"2016-12-01T22:20:06Z\",\"2016-12-07T17:28:41Z\",\"2016-12-07T17:29:03Z\",\"2016-12-07T19:50:57Z\",\"2016-12-07T19:51:26Z\",\"2017-01-18T00:36:11Z\",\"2017-03-23T09:19:19Z\",\"2017-03-23T09:20:07Z\",\"2017-03-27T16:54:58Z\",\"2017-03-27T16:55:25Z\",\"2017-04-27T16:39:02Z\",\"2017-04-27T16:39:49Z\",\"2017-05-02T18:10:41Z\",\"2017-05-02T18:11:19Z\",\"2017-05-08T15:25:41Z\",\"2017-05-08T15:26:16Z\",\"2017-06-15T19:23:53Z\",\"2017-06-15T19:24:55Z\",\"2017-06-15T19:25:24Z\",\"2017-06-26T15:21:11Z\",\"2017-06-26T15:21:30Z\",\"2017-07-21T20:28:54Z\",\"2017-07-21T20:30:16Z\",\"2017-08-15T22:15:38Z\",\"2017-08-15T22:16:04Z\",\"2017-09-12T14:05:36Z\",\"2017-09-12T14:06:24Z\",\"2017-09-21T02:57:58Z\",\"2017-09-21T02:58:27Z\",\"2017-11-15T23:04:17Z\",\"2017-11-16T21:55:04Z\",\"2018-04-04T09:05:36Z\",\"2018-04-04T09:06:06Z\",\"2018-12-14T00:00:47Z\",\"2018-12-14T00:00:47Z\",\"2019-01-22T20:00:30Z\",\"2019-02-21T19:00:35Z\",\"2019-02-21T19:00:36Z\",\"2019-07-24T13:56:44Z\",\"2019-07-24T13:57:27Z\",\"2019-10-24T18:19:15Z\",\"2019-10-24T18:19:41Z\",\"2020-03-27T17:53:51Z\",\"2020-08-31T09:02:09Z\",\"2020-08-31T09:02:49Z\"],\"id\":[4902,4905,8468,9097,10152,11835,11836,12985,15377,16244,16594,16772,16938,16961,17034,17144,17208,17404,17405,17620,18346,19476,19477,19959,19960,20481,20482,22393,22394,22932,22933,22934,22935,23628,23930,23931,23970,23971,25713,25714,25715,25716,26436,26437,26640,26641,26786,26787,26926,26927,28518,28519,30398,30399,31686,31687,31782,31783,31907,31908,31912,31913,32606,33799,33800,33848,33849,34404,34405,34479,34480,34579,34580,35237,35238,35239,35416,35417,35960,35961,36312,36313,36836,36837,36978,36979,37991,38006,40589,40590,45901,45902,46696,47515,47516,51078,51079,52956,52957,56607,60656,60657],\"index\":[0,1,2,3,4,5,6,7,8,9,10,11,12,13,14,15,16,17,18,19,20,21,22,23,24,25,26,27,28,29,30,31,32,33,34,35,36,37,38,39,40,41,42,43,44,45,46,47,48,49,50,51,52,53,54,55,56,57,58,59,60,61,62,63,64,65,66,67,68,69,70,71,72,73,74,75,76,77,78,79,80,81,82,83,84,85,86,87,88,89,90,91,92,93,94,95,96,97,98,99,100,101],\"ipaddr4\":[\"206.223.123.47\",\"198.32.176.32\",\"198.32.118.198\",\"195.66.225.174\",\"80.81.194.181\",\"208.115.136.193\",\"206.223.118.193\",\"206.126.236.193\",\"194.68.123.83\",\"198.32.176.232\",\"198.32.118.209\",\"208.115.136.206\",\"206.72.210.165\",\"206.126.237.193\",\"195.66.225.25\",\"91.210.16.67\",\"91.210.16.68\",\"37.49.237.25\",\"37.49.237.26\",\"206.223.118.163\",\"80.81.193.81\",\"5.57.81.71\",\"5.57.81.72\",\"80.249.210.197\",\"80.249.211.27\",\"91.213.211.116\",\"91.213.211.117\",\"193.239.117.158\",\"193.239.117.161\",\"206.81.81.54\",\"206.81.81.55\",\"206.41.108.57\",\"206.41.108.58\",\"206.72.211.48\",\"218.100.6.112\",\"218.100.6.113\",\"210.173.176.149\",\"210.173.176.150\",\"103.26.68.137\",\"103.26.68.138\",\"218.100.52.157\",\"218.100.52.158\",\"195.182.218.225\",\"195.182.218.245\",\"36.255.56.118\",\"36.255.56.119\",\"203.190.230.118\",\"203.190.230.119\",\"212.91.0.232\",\"212.91.0.233\",\"192.145.251.187\",\"192.145.251.188\",\"103.41.12.31\",\"103.41.12.32\",\"185.1.68.59\",\"185.1.68.60\",\"193.149.1.41\",\"185.79.175.141\",\"27.111.229.46\",\"27.111.229.36\",\"206.108.35.45\",\"206.108.35.51\",\"206.223.123.247\",\"193.203.0.230\",\"193.203.0.34\",\"187.16.221.244\",\"187.16.221.243\",\"206.51.46.9\",\"206.51.46.19\",\"45.6.53.9\",\"45.6.53.10\",\"198.32.96.49\",\"198.32.96.50\",\"194.68.128.83\",\"195.245.240.83\",\"195.69.119.83\",\"198.32.195.121\",\"198.32.195.122\",\"198.32.132.238\",\"198.32.132.239\",\"185.1.47.45\",\"185.1.47.46\",\"193.178.185.106\",\"193.178.185.107\",\"45.127.172.71\",\"45.127.172.198\",\"204.228.158.19\",\"204.228.158.22\",\"217.29.67.17\",\"217.29.67.18\",\"194.226.102.33\",\"194.226.100.33\",\"198.179.18.70\",\"123.255.90.46\",\"123.255.90.47\",\"195.208.208.73\",\"195.208.208.175\",\"198.32.243.220\",\"198.32.243.200\",\"178.18.226.109\",\"203.159.68.132\",\"203.159.68.134\"],\"ipaddr6\":[\"2001:504:0:3:0:4:6489:1\",\"2001:504:d::4:6489:2\",\"2001:504:f::4:6489:1\",\"2001:7f8:4::b599:1\",\"2001:7f8::b599:0:1\",\"2001:504:0:4:0:4:6489:1\",\"2001:504:0:5:0:4:6489:1\",\"2001:504:0:2:0:4:6489:1\",\"2001:7f8:d:ff::83\",\"2001:504:d::4:6489:1\",\"2001:504:f::4:6489:2\",\"2001:504:0:4:0:4:6489:2\",\"2001:504:13::210:165\",\"2001:504:0:2:0:4:6489:2\",\"2001:7f8:4::b599:2\",\"2001:7f8:14::7e:1\",\"2001:7f8:14::7e:2\",\"2001:7f8:54::1:25\",\"2001:7f8:54::1:26\",\"2001:504:0:5:0:4:6489:2\",\"2001:7f8::b599:0:2\",\"2001:7f8:17::b599:1\",\"2001:7f8:17::b599:2\",\"2001:7f8:1::a504:6489:2\",\"2001:7f8:1::a504:6489:1\",\"2001:7f8:7f::116\",\"2001:7f8:7f::117\",\"2001:7f8:13::a504:6489:1\",\"2001:7f8:13::a504:6489:2\",\"2001:504:16::b599\",\"2001:504:16::311:0:b599\",\"2001:504:40:108::1:57\",\"2001:504:40:108::1:58\",\"2001:504:13::211:48\",\"2001:de8:c::4:6489:1\",\"2001:de8:c::4:6489:2\",\"2001:7fa:7:1:0:4:6489:1\",\"2001:7fa:7:1:0:4:6489:2\",\"2001:dea:0:10::89\",\"2001:dea:0:10::8a\",\"2001:7fa:11:4:0:b599:0:1\",\"2001:7fa:11:4:0:b599:0:2\",\"2001:7f8:42::a504:6489:1\",\"2001:7f8:42::a504:6489:2\",\"2001:de8:7::4:6489:1\",\"2001:de8:7::4:6489:2\",\"2001:de8:5::4:6489:1\",\"2001:de8:5::4:6489:2\",\"2001:7f8:60::4:6489:1\",\"2001:7f8:60::4:6489:2\",\"2001:7fa:8::4a\",\"2001:7fa:8::4b\",\"2001:ded::1f\",\"2001:ded::20\",\"2001:7f8:a0::b599:0:1\",\"2001:7f8:a0::b599:0:2\",\"2001:7f8:f::41\",\"2001:7f8:f:1::41\",\"2001:de8:4::4:6489:2\",\"2001:de8:4::4:6489:1\",\"2001:504:1a::35:45\",\"2001:504:1a::35:51\",\"2001:504:0:3:0:4:6489:2\",\"2001:7f8:30:0:2:1:4:6489\",\"2001:7f8:30:0:2:2:4:6489\",\"2001:12f8::221:244\",\"2001:12f8::221:243\",\"2605:6c00:303:303::9\",\"2605:6c00:303:303::19\",\"2001:12f8:0:2::53:9\",\"2001:12f8:0:2::53:10\",\"2001:478:96::49\",\"2001:478:96::50\",\"2001:7f8:d:fe::83\",\"2001:7f8:d:fc::83\",\"2001:7f8:d:fb::83\",\"2620:124:2000::121\",\"2620:124:2000::122\",\"2001:478:132::238\",\"2001:478:132::239\",\"2001:7f8:36::b599:0:1\",\"2001:7f8:36::b599:0:2\",\"2001:7f8:19:1::b599:1\",\"2001:7f8:19:1::b599:2\",\"2001:de8:6::4:6489:1\",\"2001:de8:6::4:6489:2\",\"2607:fa18:1:f00::13\",\"2607:fa18:1:f00::16\",\"2001:7f8:b:100:1d1:a5d4:6489:17\",\"2001:7f8:b:100:1d1:a5d4:6489:18\",\"2001:7f8:20:202::102:33\",\"2001:7f8:20:201::100:33\",\"2001:504:2d::18:70\",\"2001:7fa:0:1::ca28:a02e\",\"2001:7fa:0:1::ca28:a02f\",\"2001:7f8:20:101::208:73\",\"2001:7f8:20:101::208:175\",\"2001:504:0:6:0:4:6489:2\",\"2001:504:0:6:0:4:6489:1\",\"2a03:5f80:4::226:109\",\"2001:deb:0:68::132\",\"2001:deb:0:68::134\"],\"is_rs_peer\":[false,false,false,false,false,false,false,false,false,false,false,false,false,false,false,false,false,false,false,false,false,false,false,false,false,true,true,false,false,false,false,false,false,false,false,false,false,false,false,false,false,false,true,true,false,false,false,false,true,true,false,false,false,false,false,false,false,false,false,false,false,false,false,false,false,true,true,false,false,true,true,false,false,false,false,false,true,true,true,true,false,false,false,false,false,false,false,false,false,false,false,false,false,false,false,true,true,false,false,false,false,false],\"ix_id\":[4,7,12,18,31,2,3,1,70,7,12,2,142,1,18,71,71,359,359,3,31,53,53,26,26,713,713,64,64,13,13,954,954,142,126,126,95,95,780,780,716,716,264,264,125,125,167,167,481,481,52,52,965,965,1277,1277,63,1146,158,158,24,24,4,50,50,171,171,254,254,177,177,673,673,2846,2845,2847,165,165,22,22,1149,1149,87,87,94,94,829,829,35,35,107,107,355,42,42,100,100,17,17,358,1025,1025],\"ixlan_id\":[4,7,12,18,31,2,3,1,70,7,12,2,142,1,18,71,71,359,359,3,31,53,53,26,26,713,713,64,64,13,13,954,954,142,126,126,95,95,780,780,716,716,264,264,125,125,167,167,481,481,52,52,965,965,1277,1277,63,1146,158,158,24,24,4,50,50,171,171,254,254,177,177,673,673,2846,2845,2847,165,165,22,22,1149,1149,87,87,94,94,829,829,35,35,107,107,355,42,42,100,100,17,17,358,1025,1025],\"name\":[\"Equinix Los Angeles\",\"Equinix Palo Alto\",\"Equinix New York\",\"LINX LON1: Main\",\"DE-CIX Frankfurt: DE-CIX Frankfurt Peering LAN\",\"Equinix Chicago\",\"Equinix Dallas\",\"Equinix Ashburn\",\"Netnod Stockholm GREEN -- MTU1500: STH-A -- MTU1500\",\"Equinix Palo Alto\",\"Equinix New York\",\"Equinix Chicago\",\"CoreSite - Any2 California\",\"Equinix Ashburn\",\"LINX LON1: Main\",\"NIX.CZ: Public peering VLAN\",\"NIX.CZ: Public peering VLAN\",\"France-IX Paris\",\"France-IX Paris\",\"Equinix Dallas\",\"DE-CIX Frankfurt: DE-CIX Frankfurt Peering LAN\",\"LONAP: LON0\",\"LONAP: LON0\",\"AMS-IX\",\"AMS-IX\",\"Peering.cz\",\"Peering.cz\",\"NL-ix: Main\",\"NL-ix: Main\",\"SIX Seattle: MTU 1500\",\"SIX Seattle: MTU 1500\",\"FL-IX\",\"FL-IX\",\"CoreSite - Any2 California\",\"BBIX Tokyo\",\"BBIX Tokyo\",\"JPNAP Tokyo: Peering\",\"JPNAP Tokyo: Peering\",\"MegaIX Sydney: MegaIX\",\"MegaIX Sydney: MegaIX\",\"IX Australia (Sydney NSW): NSW-IX\",\"IX Australia (Sydney NSW): NSW-IX\",\"Equinix Warsaw\",\"Equinix Warsaw\",\"Equinix Hong Kong\",\"Equinix Hong Kong\",\"Equinix Tokyo\",\"Equinix Tokyo\",\"Thinx\",\"Thinx\",\"KINX\",\"KINX\",\"MegaIX Singapore\",\"MegaIX Singapore\",\"DE-CIX Madrid: DE-CIX Madrid Peering LAN\",\"DE-CIX Madrid: DE-CIX Madrid Peering LAN\",\"ESPANIX Madrid Lower LAN\",\"ESPANIX Madrid Upper LAN\",\"Equinix Singapore\",\"Equinix Singapore\",\"TorIX\",\"TorIX\",\"Equinix Los Angeles\",\"VIX\",\"VIX\",\"IX.br (PTT.br) S\\u00e3o Paulo: ATM/MPLA\",\"IX.br (PTT.br) S\\u00e3o Paulo: ATM/MPLA\",\"CoreSite - Any2 Denver \",\"CoreSite - Any2 Denver \",\"IX.br (PTT.br) Rio de Janeiro: ATM/MPLA\",\"IX.br (PTT.br) Rio de Janeiro: ATM/MPLA\",\"CyrusOne IX Houston\",\"CyrusOne IX Houston\",\"Netnod Stockholm BLUE -- MTU1500: STH-B -- MTU1500\",\"Netnod Stockholm GREEN -- MTU4470: STH-A -- MTU4470\",\"Netnod Stockholm BLUE -- MTU4470: STH-B -- MTU4470\",\"NWAX: Primary Peering VLAN\",\"NWAX: Primary Peering VLAN\",\"Digital Realty Atlanta\",\"Digital Realty Atlanta\",\"DE-CIX Marseille: DE-CIX Marseille Peering LAN\",\"DE-CIX Marseille: DE-CIX Marseille Peering LAN\",\"BCIX: BCIX Peering LAN\",\"BCIX: BCIX Peering LAN\",\"Equinix Sydney\",\"Equinix Sydney\",\"SLIX - Salt Lake City Internet Exchange\",\"SLIX - Salt Lake City Internet Exchange\",\"MIX-IT\",\"MIX-IT\",\"MSK-IX Saint-Petersburg: MSK-IX Saint-Petersburg peering network\",\"MSK-IX Saint-Petersburg: MSK-IX Saint-Petersburg peering network\",\"QIX\",\"HKIX: HKIX Peering LAN\",\"HKIX: HKIX Peering LAN\",\"MSK-IX Moscow: MSK-IX peering network\",\"MSK-IX Moscow: MSK-IX peering network\",\"Equinix  Miami\",\"Equinix  Miami\",\"DATAIX\",\"BKNIX: Bangkok\",\"BKNIX: Bangkok\"],\"net_id\":[1956,1956,1956,1956,1956,1956,1956,1956,1956,1956,1956,1956,1956,1956,1956,1956,1956,1956,1956,1956,1956,1956,1956,1956,1956,1956,1956,1956,1956,1956,1956,1956,1956,1956,1956,1956,1956,1956,1956,1956,1956,1956,1956,1956,1956,1956,1956,1956,1956,1956,1956,1956,1956,1956,1956,1956,1956,1956,1956,1956,1956,1956,1956,1956,1956,1956,1956,1956,1956,1956,1956,1956,1956,1956,1956,1956,1956,1956,1956,1956,1956,1956,1956,1956,1956,1956,1956,1956,1956,1956,1956,1956,1956,1956,1956,1956,1956,1956,1956,1956,1956,1956],\"notes\":[\"\",\"\",\"\",\"\",\"\",\"\",\"\",\"\",\"\",\"\",\"\",\"\",\"\",\"\",\"\",\"\",\"\",\"\",\"\",\"\",\"\",\"\",\"\",\"\",\"\",\"\",\"\",\"\",\"\",\"\",\"\",\"\",\"\",\"\",\"\",\"\",\"\",\"\",\"\",\"\",\"\",\"\",\"\",\"\",\"\",\"\",\"\",\"\",\"\",\"\",\"\",\"\",\"\",\"\",\"\",\"\",\"\",\"\",\"\",\"\",\"\",\"\",\"\",\"\",\"\",\"\",\"\",\"\",\"\",\"\",\"\",\"\",\"\",\"\",\"\",\"\",\"\",\"\",\"\",\"\",\"\",\"\",\"\",\"\",\"\",\"\",\"\",\"\",\"\",\"\",\"\",\"\",\"\",\"\",\"\",\"\",\"\",\"\",\"\",\"\",\"\",\"\"],\"operational\":[true,true,true,true,true,true,true,true,true,true,true,true,true,true,true,true,true,true,true,true,true,true,true,true,true,true,true,true,true,true,true,true,true,true,true,true,true,true,true,true,true,true,true,true,true,true,true,true,true,true,true,true,true,true,true,true,true,true,true,true,true,true,true,true,true,true,true,true,true,true,true,true,true,true,true,true,true,true,true,true,true,true,true,true,true,true,true,true,true,true,true,true,true,true,true,true,true,true,true,true,true,true],\"speed\":[10000,30000,30000,100000,100000,20000,10000,30000,100000,30000,30000,20000,20000,30000,100000,100000,100000,20000,20000,10000,100000,10000,10000,100000,100000,30000,30000,100000,100000,20000,20000,20000,20000,20000,10000,10000,30000,30000,10000,10000,10000,10000,50000,50000,20000,20000,20000,20000,10000,10000,50000,50000,10000,10000,10000,10000,20000,20000,10000,10000,10000,10000,10000,20000,20000,300000,300000,20000,20000,100000,100000,10000,10000,100000,100000,100000,10000,10000,20000,20000,10000,10000,100000,100000,10000,10000,10000,10000,10000,10000,100000,100000,20000,20000,20000,100000,100000,10000,10000,100000,10000,10000],\"status\":[\"ok\",\"ok\",\"ok\",\"ok\",\"ok\",\"ok\",\"ok\",\"ok\",\"ok\",\"ok\",\"ok\",\"ok\",\"ok\",\"ok\",\"ok\",\"ok\",\"ok\",\"ok\",\"ok\",\"ok\",\"ok\",\"ok\",\"ok\",\"ok\",\"ok\",\"ok\",\"ok\",\"ok\",\"ok\",\"ok\",\"ok\",\"ok\",\"ok\",\"ok\",\"ok\",\"ok\",\"ok\",\"ok\",\"ok\",\"ok\",\"ok\",\"ok\",\"ok\",\"ok\",\"ok\",\"ok\",\"ok\",\"ok\",\"ok\",\"ok\",\"ok\",\"ok\",\"ok\",\"ok\",\"ok\",\"ok\",\"ok\",\"ok\",\"ok\",\"ok\",\"ok\",\"ok\",\"ok\",\"ok\",\"ok\",\"ok\",\"ok\",\"ok\",\"ok\",\"ok\",\"ok\",\"ok\",\"ok\",\"ok\",\"ok\",\"ok\",\"ok\",\"ok\",\"ok\",\"ok\",\"ok\",\"ok\",\"ok\",\"ok\",\"ok\",\"ok\",\"ok\",\"ok\",\"ok\",\"ok\",\"ok\",\"ok\",\"ok\",\"ok\",\"ok\",\"ok\",\"ok\",\"ok\",\"ok\",\"ok\",\"ok\",\"ok\"],\"updated\":[\"2017-06-14T20:05:46Z\",\"2017-06-14T20:05:46Z\",\"2017-03-29T13:24:48Z\",\"2017-06-15T19:35:17Z\",\"2020-04-10T20:52:14Z\",\"2018-02-06T20:02:05Z\",\"2017-04-24T13:43:43Z\",\"2017-03-30T23:59:46Z\",\"2017-06-15T19:07:11Z\",\"2017-06-14T20:05:46Z\",\"2017-03-29T13:24:49Z\",\"2018-02-06T20:02:05Z\",\"2017-06-15T03:25:02Z\",\"2017-03-30T23:59:46Z\",\"2017-06-15T19:35:17Z\",\"2017-09-14T15:19:57Z\",\"2017-09-14T15:19:57Z\",\"2017-04-14T02:24:41Z\",\"2017-04-14T02:24:42Z\",\"2017-04-24T13:43:42Z\",\"2020-04-10T20:52:14Z\",\"2017-06-15T21:59:44Z\",\"2017-06-15T21:59:44Z\",\"2017-06-14T21:42:55Z\",\"2017-06-14T20:27:19Z\",\"2017-05-02T18:12:48Z\",\"2017-05-02T18:12:48Z\",\"2020-08-25T12:38:48Z\",\"2020-08-25T12:38:49Z\",\"2017-03-14T23:25:33Z\",\"2017-03-14T23:25:34Z\",\"2017-03-26T19:28:07Z\",\"2017-03-26T19:28:07Z\",\"2017-06-15T03:25:02Z\",\"2018-11-15T12:47:34Z\",\"2018-11-15T12:47:34Z\",\"2020-07-02T03:46:33Z\",\"2020-07-02T03:46:33Z\",\"2017-03-16T23:22:24Z\",\"2017-03-16T23:22:24Z\",\"2017-06-15T03:04:53Z\",\"2017-06-15T03:04:53Z\",\"2017-05-02T18:12:47Z\",\"2017-05-02T18:12:47Z\",\"2019-03-14T20:53:58Z\",\"2019-03-14T20:53:58Z\",\"2017-03-23T09:42:25Z\",\"2017-03-23T09:42:25Z\",\"2017-06-16T22:02:37Z\",\"2017-06-16T22:02:37Z\",\"2020-07-02T04:40:12Z\",\"2020-07-02T04:40:12Z\",\"2017-03-16T23:22:23Z\",\"2017-03-16T23:22:23Z\",\"2020-02-19T04:07:27Z\",\"2020-02-19T04:07:27Z\",\"2017-03-15T08:35:50Z\",\"2018-04-30T17:36:50Z\",\"2017-03-23T09:42:25Z\",\"2017-03-23T09:42:25Z\",\"2016-12-07T21:59:05Z\",\"2016-12-07T21:59:05Z\",\"2017-06-14T20:05:45Z\",\"2017-05-10T07:22:23Z\",\"2017-05-10T07:22:23Z\",\"2018-08-10T18:09:54Z\",\"2018-08-10T18:09:54Z\",\"2017-04-27T16:39:02Z\",\"2017-04-27T16:39:49Z\",\"2018-06-27T20:03:07Z\",\"2018-06-27T20:03:07Z\",\"2017-05-08T15:25:41Z\",\"2017-05-08T15:26:16Z\",\"2020-02-19T04:07:45Z\",\"2020-02-19T04:07:44Z\",\"2020-02-19T04:07:46Z\",\"2020-02-03T06:58:01Z\",\"2020-02-03T06:58:01Z\",\"2017-07-21T20:28:54Z\",\"2017-07-21T20:30:56Z\",\"2018-06-01T00:20:41Z\",\"2018-06-01T00:20:45Z\",\"2017-09-12T14:05:36Z\",\"2017-09-12T14:06:24Z\",\"2017-09-21T02:59:00Z\",\"2017-09-21T02:59:00Z\",\"2017-11-15T23:04:17Z\",\"2017-11-16T21:55:05Z\",\"2018-04-04T09:05:36Z\",\"2018-04-04T09:06:06Z\",\"2020-09-02T15:45:21Z\",\"2020-09-02T15:45:01Z\",\"2020-02-19T04:07:40Z\",\"2020-02-19T04:08:20Z\",\"2020-02-19T04:08:20Z\",\"2020-03-27T17:54:01Z\",\"2020-03-27T17:54:01Z\",\"2020-02-03T06:54:31Z\",\"2020-02-03T06:54:31Z\",\"2020-09-03T15:32:42Z\",\"2020-09-03T04:05:54Z\",\"2020-09-03T04:05:55Z\"]},\"selected\":{\"id\":\"1227\"},\"selection_policy\":{\"id\":\"1228\"}},\"id\":\"1184\",\"type\":\"ColumnDataSource\"},{\"attributes\":{\"editor\":{\"id\":\"1216\"},\"field\":\"asn\",\"formatter\":{\"id\":\"1215\"},\"title\":\"ASN\"},\"id\":\"1186\",\"type\":\"TableColumn\"},{\"attributes\":{\"editor\":{\"id\":\"1214\"},\"field\":\"name\",\"formatter\":{\"id\":\"1213\"},\"title\":\"IX Name\"},\"id\":\"1185\",\"type\":\"TableColumn\"},{\"attributes\":{\"editor\":{\"id\":\"1220\"},\"field\":\"ipaddr4\",\"formatter\":{\"id\":\"1219\"},\"title\":\"IPv4 Addr\"},\"id\":\"1188\",\"type\":\"TableColumn\"},{\"attributes\":{},\"id\":\"1220\",\"type\":\"StringEditor\"},{\"attributes\":{},\"id\":\"1225\",\"type\":\"StringFormatter\"},{\"attributes\":{},\"id\":\"1217\",\"type\":\"StringFormatter\"},{\"attributes\":{\"editor\":{\"id\":\"1222\"},\"field\":\"speed\",\"formatter\":{\"id\":\"1221\"},\"title\":\"Speed\"},\"id\":\"1189\",\"type\":\"TableColumn\"},{\"attributes\":{},\"id\":\"1219\",\"type\":\"StringFormatter\"},{\"attributes\":{},\"id\":\"1222\",\"type\":\"StringEditor\"},{\"attributes\":{\"editor\":{\"id\":\"1218\"},\"field\":\"ipaddr6\",\"formatter\":{\"id\":\"1217\"},\"title\":\"IPv6 Addr\"},\"id\":\"1187\",\"type\":\"TableColumn\"},{\"attributes\":{},\"id\":\"1226\",\"type\":\"StringEditor\"},{\"attributes\":{},\"id\":\"1227\",\"type\":\"Selection\"},{\"attributes\":{},\"id\":\"1224\",\"type\":\"StringEditor\"},{\"attributes\":{},\"id\":\"1216\",\"type\":\"StringEditor\"}],\"root_ids\":[\"1194\"]},\"title\":\"Bokeh Application\",\"version\":\"2.1.0\"}};\n",
       "  var render_items = [{\"docid\":\"0582d148-3e51-455b-bd43-4a5c813e8a5c\",\"root_ids\":[\"1194\"],\"roots\":{\"1194\":\"0a6a4e69-6c97-4e52-be4a-fcea86429c48\"}}];\n",
       "  root.Bokeh.embed.embed_items_notebook(docs_json, render_items);\n",
       "\n",
       "  }\n",
       "  if (root.Bokeh !== undefined) {\n",
       "    embed_document(root);\n",
       "  } else {\n",
       "    var attempts = 0;\n",
       "    var timer = setInterval(function(root) {\n",
       "      if (root.Bokeh !== undefined) {\n",
       "        clearInterval(timer);\n",
       "        embed_document(root);\n",
       "      } else {\n",
       "        attempts++;\n",
       "        if (attempts > 100) {\n",
       "          clearInterval(timer);\n",
       "          console.log(\"Bokeh: ERROR: Unable to run BokehJS code because BokehJS library is missing\");\n",
       "        }\n",
       "      }\n",
       "    }, 10, root)\n",
       "  }\n",
       "})(window);"
      ],
      "application/vnd.bokehjs_exec.v0+json": ""
     },
     "metadata": {
      "application/vnd.bokehjs_exec.v0+json": {
       "id": "1194"
      }
     },
     "output_type": "display_data"
    }
   ],
   "source": [
    "show(pd.plot_data_table())"
   ]
  },
  {
   "cell_type": "code",
   "execution_count": null,
   "metadata": {
    "ExecuteTime": {
     "end_time": "2020-09-15T06:07:06.614033Z",
     "start_time": "2020-09-15T06:07:04.151Z"
    },
    "hide_input": false
   },
   "outputs": [],
   "source": [
    "%%javascript\n",
    "IPython.notebook.save_notebook()"
   ]
  }
 ],
 "metadata": {
  "kernelspec": {
   "display_name": "Python 3",
   "language": "python",
   "name": "python3"
  },
  "language_info": {
   "codemirror_mode": {
    "name": "ipython",
    "version": 3
   },
   "file_extension": ".py",
   "mimetype": "text/x-python",
   "name": "python",
   "nbconvert_exporter": "python",
   "pygments_lexer": "ipython3",
   "version": "3.7.6"
  },
  "latex_envs": {
   "LaTeX_envs_menu_present": true,
   "autoclose": false,
   "autocomplete": true,
   "bibliofile": "biblio.bib",
   "cite_by": "apalike",
   "current_citInitial": 1,
   "eqLabelWithNumbers": true,
   "eqNumInitial": 1,
   "hotkeys": {
    "equation": "Ctrl-E",
    "itemize": "Ctrl-I"
   },
   "labels_anchors": false,
   "latex_user_defs": false,
   "report_style_numbering": false,
   "user_envs_cfg": false
  },
  "toc": {
   "base_numbering": 1,
   "nav_menu": {},
   "number_sections": true,
   "sideBar": true,
   "skip_h1_title": false,
   "title_cell": "Table of Contents",
   "title_sidebar": "Contents",
   "toc_cell": false,
   "toc_position": {},
   "toc_section_display": true,
   "toc_window_display": false
  }
 },
 "nbformat": 4,
 "nbformat_minor": 2
}
