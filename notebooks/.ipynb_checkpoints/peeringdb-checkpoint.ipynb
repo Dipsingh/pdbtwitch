{
 "cells": [
  {
   "cell_type": "code",
   "execution_count": null,
   "metadata": {
    "ExecuteTime": {
     "start_time": "2020-09-15T19:28:23.582Z"
    },
    "hide_input": false
   },
   "outputs": [],
   "source": [
    "%%html\n",
    "<script>\n",
    "    // AUTORUN ALL CELLS ON NOTEBOOK-LOAD!\n",
    "    require(\n",
    "        ['base/js/namespace', 'jquery'], \n",
    "        function(jupyter, $) {\n",
    "            $(jupyter.events).on(\"kernel_ready.Kernel\", function () {\n",
    "                console.log(\"Auto-running all cells-below...\");\n",
    "                jupyter.actions.call('jupyter-notebook:run-all-cells-below');\n",
    "                jupyter.actions.call('jupyter-notebook:save-notebook');\n",
    "            });\n",
    "        }\n",
    "    );\n",
    "</script>"
   ]
  },
  {
   "cell_type": "code",
   "execution_count": null,
   "metadata": {
    "ExecuteTime": {
     "start_time": "2020-09-15T19:28:23.585Z"
    },
    "hide_input": false
   },
   "outputs": [],
   "source": [
    "from pdbtwitch.collector.collector import PeeringData\n",
    "import warnings\n",
    "import matplotlib.pyplot as plt\n",
    "from bokeh.plotting import show\n",
    "from bokeh.layouts import row, widgetbox, column\n",
    "from pandas.plotting import register_matplotlib_converters\n",
    "from bokeh.io import output_notebook\n",
    "register_matplotlib_converters()\n",
    "plt.style.use('seaborn-whitegrid')\n",
    "warnings.filterwarnings('ignore')\n",
    "%matplotlib inline\n",
    "plt.ion()\n",
    "output_notebook()"
   ]
  },
  {
   "cell_type": "code",
   "execution_count": null,
   "metadata": {
    "ExecuteTime": {
     "start_time": "2020-09-15T19:28:23.587Z"
    }
   },
   "outputs": [],
   "source": [
    "pdt = PeeringData()"
   ]
  },
  {
   "cell_type": "markdown",
   "metadata": {},
   "source": [
    "## Executive Summary"
   ]
  },
  {
   "cell_type": "code",
   "execution_count": null,
   "metadata": {
    "ExecuteTime": {
     "start_time": "2020-09-15T19:28:23.611Z"
    }
   },
   "outputs": [],
   "source": [
    "show(row(pdt.plot_peering_summary(),pdt.plot_aggregate_capacity()))"
   ]
  },
  {
   "cell_type": "markdown",
   "metadata": {},
   "source": [
    "## Public IX Port Breakdown Summary"
   ]
  },
  {
   "cell_type": "code",
   "execution_count": null,
   "metadata": {
    "ExecuteTime": {
     "start_time": "2020-09-15T19:28:23.621Z"
    }
   },
   "outputs": [],
   "source": [
    "show(pdt.plot_port_speed_breakdown())"
   ]
  },
  {
   "cell_type": "code",
   "execution_count": null,
   "metadata": {
    "ExecuteTime": {
     "end_time": "2020-09-15T17:17:15.074172Z",
     "start_time": "2020-09-15T17:17:15.064189Z"
    }
   },
   "outputs": [],
   "source": []
  },
  {
   "cell_type": "code",
   "execution_count": null,
   "metadata": {
    "ExecuteTime": {
     "start_time": "2020-09-15T19:28:23.626Z"
    }
   },
   "outputs": [],
   "source": [
    "from geotext import GeoText\n",
    "def extract_city(text):\n",
    "    text = text.replace(\"Equinix\", \"\")\n",
    "    if 'New York' in text:\n",
    "        return \"New York\"\n",
    "    elif 'Los Angeles' in text:\n",
    "        return \"Los Angeles\"\n",
    "    elif ('LINX' in text) or ('LONAP' in text):\n",
    "        return \"London\"\n",
    "    elif 'BCIX' in text:\n",
    "        return \"Berlin\"\n",
    "    elif 'HKIX' in text:\n",
    "        return \"Hong Kong\"\n",
    "    elif 'QIX' in text:\n",
    "        return \"Montreal\"\n",
    "    elif 'TorIX' in text:\n",
    "        return \"Toronto\"\n",
    "    elif \"Frankfurt\" in text:\n",
    "        return \"Frankfurt\"\n",
    "    elif \"AMS\" in text:\n",
    "        return \"Amsterdam\"\n",
    "    elif \"Saint-Petersburg\" in text:\n",
    "        return \"Saint Petersburg\"\n",
    "    elif \"Stockholm\" in text:\n",
    "        return \"Stockholm\"\n",
    "    elif \"NWAX\" in text:\n",
    "        return \"Portland\"\n",
    "    elif \"Thinx\" in text:\n",
    "        return \"Warsaw\"\n",
    "    elif \"Hong Kong\" in text:\n",
    "        return \"Hong Kong\"\n",
    "    elif \"Singapore\" in text:\n",
    "        return \"Singapore\"\n",
    "    elif \"FL-IX\" in text:\n",
    "        return \"Miami\"\n",
    "    elif \"Madrid\" in text:\n",
    "        return \"Madrid\"\n",
    "    elif \"KINX\" in text:\n",
    "        return \"Seoul\"\n",
    "    elif \"VIX\" in text:\n",
    "        return \"Vienna\"\n",
    "    elif \"MIX-IT\" in text:\n",
    "        return \"Milan\"\n",
    "    elif \"DATAIX\" in text:\n",
    "        return \"Moscow\"\n",
    "    elif \"CoreSite - Any2 California\" in text:\n",
    "        return \"Los Angeles\"\n",
    "    elif \"Peering.cz\" in text:\n",
    "        return \"Prague\"\n",
    "    elif \"NL-ix: Main\" in text:\n",
    "        return \"Amsterdam\"\n",
    "    elif \"NIX.CZ\" in text:\n",
    "        return \"Prague\"\n",
    "    \n",
    "    places = GeoText(text)\n",
    "    if len(places.cities) > 0:\n",
    "        city = places.cities[0]\n",
    "        return city\n",
    "    else:\n",
    "        return None"
   ]
  },
  {
   "cell_type": "code",
   "execution_count": null,
   "metadata": {
    "ExecuteTime": {
     "start_time": "2020-09-15T19:28:23.627Z"
    },
    "scrolled": false
   },
   "outputs": [],
   "source": [
    "pdt.df['city'] = pdt.df.name.apply(extract_city)"
   ]
  },
  {
   "cell_type": "code",
   "execution_count": null,
   "metadata": {
    "ExecuteTime": {
     "start_time": "2020-09-15T19:28:23.629Z"
    }
   },
   "outputs": [],
   "source": [
    "city_list = pdt.df['city'].unique()"
   ]
  },
  {
   "cell_type": "code",
   "execution_count": null,
   "metadata": {
    "ExecuteTime": {
     "end_time": "2020-09-15T18:35:32.015255Z",
     "start_time": "2020-09-15T18:35:32.006441Z"
    }
   },
   "outputs": [],
   "source": []
  },
  {
   "cell_type": "code",
   "execution_count": null,
   "metadata": {
    "ExecuteTime": {
     "start_time": "2020-09-15T19:28:23.633Z"
    }
   },
   "outputs": [],
   "source": [
    "city_dict = {}"
   ]
  },
  {
   "cell_type": "code",
   "execution_count": null,
   "metadata": {
    "ExecuteTime": {
     "start_time": "2020-09-15T19:28:23.635Z"
    }
   },
   "outputs": [],
   "source": [
    "from geopy.exc import GeocoderTimedOut \n",
    "from geopy.geocoders import Nominatim\n",
    "\n",
    "def findGeocode(city):   \n",
    "    try: \n",
    "        geolocator = Nominatim(user_agent=\"peeringdb\")\n",
    "        loc = geolocator.geocode(city)\n",
    "        return loc.latitude, loc.longitude\n",
    "    except GeocoderTimedOut: \n",
    "        return None     "
   ]
  },
  {
   "cell_type": "code",
   "execution_count": null,
   "metadata": {
    "ExecuteTime": {
     "start_time": "2020-09-15T19:28:23.638Z"
    }
   },
   "outputs": [],
   "source": [
    "for city in city_list:\n",
    "    lat, long = findGeocode(city)\n",
    "    city_dict[city] = {'lat': lat, 'long': long}"
   ]
  },
  {
   "cell_type": "code",
   "execution_count": null,
   "metadata": {
    "ExecuteTime": {
     "start_time": "2020-09-15T19:28:23.639Z"
    }
   },
   "outputs": [],
   "source": [
    "def extract_long_lat(df):\n",
    "    city = df.city\n",
    "    long = city_dict.get(city).get('long')\n",
    "    lat = city_dict.get(city).get('lat')\n",
    "    return lat, long"
   ]
  },
  {
   "cell_type": "code",
   "execution_count": null,
   "metadata": {
    "ExecuteTime": {
     "start_time": "2020-09-15T19:28:23.641Z"
    }
   },
   "outputs": [],
   "source": [
    "pdt.df[['lat', 'long']] = pdt.df.apply(extract_long_lat, axis=1, result_type='expand')"
   ]
  },
  {
   "cell_type": "code",
   "execution_count": null,
   "metadata": {
    "ExecuteTime": {
     "start_time": "2020-09-15T19:28:23.643Z"
    }
   },
   "outputs": [],
   "source": [
    "pdt.df[\"Coordinates\"] = list(zip(pdt.df.long, pdt.df.lat))"
   ]
  },
  {
   "cell_type": "code",
   "execution_count": null,
   "metadata": {
    "ExecuteTime": {
     "start_time": "2020-09-15T19:28:23.646Z"
    }
   },
   "outputs": [],
   "source": [
    "from shapely.geometry import Point\n",
    "import geopandas as gpd\n",
    "pdt.df[\"Coordinates\"] = pdt.df[\"Coordinates\"].apply(Point)\n",
    "\n",
    "gdf = gpd.GeoDataFrame(pdt.df[['city', 'lat', 'long', 'Coordinates']], geometry=\"Coordinates\")\n",
    "gdf.head()"
   ]
  },
  {
   "cell_type": "code",
   "execution_count": null,
   "metadata": {
    "ExecuteTime": {
     "start_time": "2020-09-15T19:28:23.647Z"
    }
   },
   "outputs": [],
   "source": [
    "world = gpd.read_file(gpd.datasets.get_path(\"naturalearth_lowres\"))\n",
    "world = world.set_index(\"iso_a3\")"
   ]
  },
  {
   "cell_type": "code",
   "execution_count": null,
   "metadata": {
    "ExecuteTime": {
     "start_time": "2020-09-15T19:28:23.649Z"
    }
   },
   "outputs": [],
   "source": [
    "fig, gax = plt.subplots(figsize=(20,20))\n",
    "world.plot(ax=gax, edgecolor='grey',color='white')\n",
    "gax.set_xlabel('longitude')\n",
    "gax.set_ylabel('latitude')\n",
    "gdf.plot(ax=gax, color='red', alpha = 0.5)\n",
    "gax.spines['top'].set_visible(False)\n",
    "gax.spines['right'].set_visible(False)"
   ]
  },
  {
   "cell_type": "code",
   "execution_count": null,
   "metadata": {},
   "outputs": [],
   "source": []
  },
  {
   "cell_type": "code",
   "execution_count": null,
   "metadata": {
    "ExecuteTime": {
     "start_time": "2020-09-15T19:28:23.654Z"
    }
   },
   "outputs": [],
   "source": [
    "pdt.df.city.unique()"
   ]
  },
  {
   "cell_type": "code",
   "execution_count": null,
   "metadata": {
    "ExecuteTime": {
     "start_time": "2020-09-15T19:28:23.880Z"
    },
    "hide_input": false
   },
   "outputs": [],
   "source": [
    "%%javascript\n",
    "IPython.notebook.save_notebook()"
   ]
  }
 ],
 "metadata": {
  "kernelspec": {
   "display_name": "Python 3",
   "language": "python",
   "name": "python3"
  },
  "language_info": {
   "codemirror_mode": {
    "name": "ipython",
    "version": 3
   },
   "file_extension": ".py",
   "mimetype": "text/x-python",
   "name": "python",
   "nbconvert_exporter": "python",
   "pygments_lexer": "ipython3",
   "version": "3.7.6"
  },
  "latex_envs": {
   "LaTeX_envs_menu_present": true,
   "autoclose": false,
   "autocomplete": true,
   "bibliofile": "biblio.bib",
   "cite_by": "apalike",
   "current_citInitial": 1,
   "eqLabelWithNumbers": true,
   "eqNumInitial": 1,
   "hotkeys": {
    "equation": "Ctrl-E",
    "itemize": "Ctrl-I"
   },
   "labels_anchors": false,
   "latex_user_defs": false,
   "report_style_numbering": false,
   "user_envs_cfg": false
  },
  "toc": {
   "base_numbering": 1,
   "nav_menu": {},
   "number_sections": true,
   "sideBar": true,
   "skip_h1_title": false,
   "title_cell": "Table of Contents",
   "title_sidebar": "Contents",
   "toc_cell": false,
   "toc_position": {},
   "toc_section_display": true,
   "toc_window_display": false
  }
 },
 "nbformat": 4,
 "nbformat_minor": 2
}
